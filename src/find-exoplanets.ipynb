{
 "cells": [
  {
   "cell_type": "markdown",
   "id": "9f0aed2e",
   "metadata": {},
   "source": [
    "# Encontrando Expoplanetas com Python e dados da NASA"
   ]
  },
  {
   "cell_type": "markdown",
   "id": "a04bfc20",
   "metadata": {},
   "source": [
    "**Bibliotecas Utilizadas**\n",
    "\n",
    "* **Lightkurve** ([https://lightkurve.github.io/lightkurve/](https://lightkurve.github.io/lightkurve/))"
   ]
  },
  {
   "cell_type": "markdown",
   "id": "dc43eca2",
   "metadata": {},
   "source": [
    "**Carregamento de Bibliotecas**"
   ]
  },
  {
   "cell_type": "code",
   "execution_count": null,
   "id": "61c2f28b",
   "metadata": {},
   "outputs": [],
   "source": [
    "from lightkurve import search_targetpixelfile"
   ]
  }
 ],
 "metadata": {
  "kernelspec": {
   "display_name": "venv",
   "language": "python",
   "name": "python3"
  },
  "language_info": {
   "name": "python",
   "version": "3.12.7"
  }
 },
 "nbformat": 4,
 "nbformat_minor": 5
}
